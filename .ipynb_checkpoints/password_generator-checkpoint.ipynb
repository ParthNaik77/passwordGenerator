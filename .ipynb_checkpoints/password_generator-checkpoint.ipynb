{
 "cells": [
  {
   "cell_type": "code",
   "execution_count": 1,
   "id": "e927e56e",
   "metadata": {},
   "outputs": [],
   "source": [
    "import random\n",
    "import string\n",
    "import re"
   ]
  },
  {
   "cell_type": "code",
   "execution_count": 6,
   "id": "9b9e17d1",
   "metadata": {},
   "outputs": [
    {
     "name": "stdout",
     "output_type": "stream",
     "text": [
      "Enter the required password length: \n",
      "8\n",
      "Generated password is:  cz%G#MK0\n"
     ]
    }
   ],
   "source": [
    "def generate_password(length: int = 10):\n",
    "    # Defining characters to be used to generate password\n",
    "    characters = string.ascii_letters + string.digits + '@$!%*?&#'\n",
    "    \n",
    "    check_pass = None\n",
    "    count = 0\n",
    "    while type(check_pass) != re.Match:\n",
    "        # Generating a password by randomly selecting characters from characters variable\n",
    "        password = ''.join(random.choice(characters) for i in range(length))\n",
    "        \"\"\"Checking whether password string:\n",
    "            1. is equal or greater than 8 characters\n",
    "            2. atleast 1 number\n",
    "            3. atleast 1 special character\n",
    "            4. atleast 1 Uppercase aplhabet\n",
    "            5. atleast 1 Lowercase alphabet\"\"\"\n",
    "        check_pass = re.search(\"^(?=.*[a-z])(?=.*[A-Z])(?=.*\\d)(?=.*[@$!%*?&#])[A-Za-z\\d@$!%*?&#]{8,}$\", password)\n",
    "        \n",
    "    return password\n",
    "\n",
    "\n",
    "if __name__ == \"__main__\":\n",
    "    \n",
    "    print(\"Enter the required password length: \")\n",
    "    password_length = int(input())\n",
    "    \n",
    "    while password_length < 8:\n",
    "        print(\"Password length must be greater than 7\")\n",
    "        print(\"Enter the required password length: \")\n",
    "        password_length = int(input())\n",
    "        \n",
    "    generated_password = generate_password(password_length)\n",
    "    print(\"Generated password is: \", generated_password)"
   ]
  },
  {
   "cell_type": "code",
   "execution_count": null,
   "id": "68949828",
   "metadata": {},
   "outputs": [],
   "source": []
  }
 ],
 "metadata": {
  "kernelspec": {
   "display_name": "Python 3 (ipykernel)",
   "language": "python",
   "name": "python3"
  },
  "language_info": {
   "codemirror_mode": {
    "name": "ipython",
    "version": 3
   },
   "file_extension": ".py",
   "mimetype": "text/x-python",
   "name": "python",
   "nbconvert_exporter": "python",
   "pygments_lexer": "ipython3",
   "version": "3.10.4"
  }
 },
 "nbformat": 4,
 "nbformat_minor": 5
}
